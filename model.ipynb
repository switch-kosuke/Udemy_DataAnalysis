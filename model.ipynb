{
  "cells": [
    {
      "cell_type": "markdown",
      "metadata": {
        "id": "view-in-github",
        "colab_type": "text"
      },
      "source": [
        "<a href=\"https://colab.research.google.com/github/switch-kosuke/Udemy_DataAnalysis/blob/main/model.ipynb\" target=\"_parent\"><img src=\"https://colab.research.google.com/assets/colab-badge.svg\" alt=\"Open In Colab\"/></a>"
      ]
    },
    {
      "cell_type": "code",
      "execution_count": null,
      "id": "foreign-interference",
      "metadata": {
        "id": "foreign-interference"
      },
      "outputs": [],
      "source": [
        "import glob\n",
        "import pandas as pd\n",
        "import numpy as np\n",
        "import matplotlib.pyplot as plt\n",
        "import seaborn as sns\n",
        "#import test_func as tf\n",
        "%matplotlib inline"
      ]
    },
    {
      "cell_type": "code",
      "source": [
        "from google.colab import drive\n",
        "drive.mount('/content/drive')"
      ],
      "metadata": {
        "colab": {
          "base_uri": "https://localhost:8080/"
        },
        "id": "2Fu33jBR6LTA",
        "outputId": "631541f0-2b83-4c58-d0b7-7cef1967a508"
      },
      "id": "2Fu33jBR6LTA",
      "execution_count": null,
      "outputs": [
        {
          "output_type": "stream",
          "name": "stdout",
          "text": [
            "Drive already mounted at /content/drive; to attempt to forcibly remount, call drive.mount(\"/content/drive\", force_remount=True).\n"
          ]
        }
      ]
    },
    {
      "cell_type": "code",
      "execution_count": null,
      "id": "immediate-batch",
      "metadata": {
        "id": "immediate-batch",
        "colab": {
          "base_uri": "https://localhost:8080/"
        },
        "outputId": "2873db5b-8cd2-47ee-bbd9-e41a4a3aafb7"
      },
      "outputs": [
        {
          "output_type": "stream",
          "name": "stderr",
          "text": [
            "<ipython-input-41-dd1732534ad3>:4: DtypeWarning: Columns (10) have mixed types. Specify dtype option on import or set low_memory=False.\n",
            "  data_list.append(pd.read_csv(file, index_col=0))\n",
            "<ipython-input-41-dd1732534ad3>:4: DtypeWarning: Columns (10) have mixed types. Specify dtype option on import or set low_memory=False.\n",
            "  data_list.append(pd.read_csv(file, index_col=0))\n"
          ]
        }
      ],
      "source": [
        "files = glob.glob(\"/content/drive/MyDrive/Colab Notebooks/data_comp/train/train/*.csv\")\n",
        "data_list = []\n",
        "for file in files:\n",
        "    data_list.append(pd.read_csv(file, index_col=0))\n",
        "df = pd.concat(data_list)"
      ]
    },
    {
      "cell_type": "code",
      "execution_count": null,
      "id": "frank-devon",
      "metadata": {
        "id": "frank-devon",
        "outputId": "dad64875-eb8d-4a95-b5bd-88e26afd8952",
        "colab": {
          "base_uri": "https://localhost:8080/",
          "height": 198
        }
      },
      "outputs": [
        {
          "output_type": "error",
          "ename": "NameError",
          "evalue": "ignored",
          "traceback": [
            "\u001b[0;31m---------------------------------------------------------------------------\u001b[0m",
            "\u001b[0;31mNameError\u001b[0m                                 Traceback (most recent call last)",
            "\u001b[0;32m<ipython-input-42-fb4328603f71>\u001b[0m in \u001b[0;36m<cell line: 1>\u001b[0;34m()\u001b[0m\n\u001b[0;32m----> 1\u001b[0;31m \u001b[0mdf\u001b[0m \u001b[0;34m=\u001b[0m \u001b[0mtf\u001b[0m\u001b[0;34m.\u001b[0m\u001b[0mdata_pre\u001b[0m\u001b[0;34m(\u001b[0m\u001b[0mdf\u001b[0m\u001b[0;34m)\u001b[0m\u001b[0;34m\u001b[0m\u001b[0;34m\u001b[0m\u001b[0m\n\u001b[0m\u001b[1;32m      2\u001b[0m \u001b[0mmodel\u001b[0m \u001b[0;34m=\u001b[0m \u001b[0mtf\u001b[0m\u001b[0;34m.\u001b[0m\u001b[0mmodel_lgb\u001b[0m\u001b[0;34m(\u001b[0m\u001b[0mdf\u001b[0m\u001b[0;34m)\u001b[0m\u001b[0;34m\u001b[0m\u001b[0;34m\u001b[0m\u001b[0m\n",
            "\u001b[0;31mNameError\u001b[0m: name 'tf' is not defined"
          ]
        }
      ],
      "source": [
        "#df = tf.data_pre(df)\n",
        "#model = tf.model_lgb(df)"
      ]
    },
    {
      "cell_type": "code",
      "execution_count": null,
      "id": "whole-newton",
      "metadata": {
        "id": "whole-newton"
      },
      "outputs": [],
      "source": [
        "#edaでやったことを、関数化する\n",
        "def data_pre(df):\n",
        "    nonnull_list = []\n",
        "    for col in df.columns:\n",
        "        nonnull = df[col].count()\n",
        "        if nonnull == 0:\n",
        "            nonnull_list.append(col)\n",
        "    df = df.drop(nonnull_list, axis=1)\n",
        "\n",
        "    df = df.drop(\"市区町村名\", axis=1)\n",
        "\n",
        "    df = df.drop(\"種類\", axis=1)\n",
        "\n",
        "    dis = {\n",
        "        \"30分?60分\":45,\n",
        "        \"1H?1H30\":75,\n",
        "        \"2H?\":120,\n",
        "        \"1H30?2H\":105\n",
        "    }\n",
        "    df[\"最寄駅：距離（分）\"] = df[\"最寄駅：距離（分）\"].replace(dis).astype(float)\n",
        "\n",
        "    df[\"面積（㎡）\"] = df[\"面積（㎡）\"].replace(\"2000㎡以上\", 2000).astype(float)\n",
        "\n",
        "\n",
        "    y_list = {}\n",
        "    for i in df[\"建築年\"].value_counts().keys():\n",
        "        if \"平成\" in i:\n",
        "            num = float(i.split(\"平成\")[1].split(\"年\")[0])\n",
        "            year = 33 - num\n",
        "        if \"令和\" in i:\n",
        "            num = float(i.split(\"令和\")[1].split(\"年\")[0])\n",
        "            year = 3 - num\n",
        "        if \"昭和\" in i:\n",
        "            num = float(i.split(\"昭和\")[1].split(\"年\")[0])\n",
        "            year = 96 - num\n",
        "        y_list[i] = year\n",
        "    y_list[\"戦前\"] = 76\n",
        "    df[\"建築年\"] = df[\"建築年\"].replace(y_list)\n",
        "\n",
        "    year = {\n",
        "        \"年第１四半期\": \".25\",\n",
        "        \"年第２四半期\": \".50\",\n",
        "        \"年第３四半期\": \".75\",\n",
        "        \"年第４四半期\": \".99\"\n",
        "    }\n",
        "    year_list = {}\n",
        "    for i in df[\"取引時点\"].value_counts().keys():\n",
        "        for k, j in year.items():\n",
        "            if k in i:\n",
        "                year_rep = i.replace(k, j)\n",
        "        year_list[i] = year_rep\n",
        "    df[\"取引時点\"] = df[\"取引時点\"].replace(year_list).astype(float)\n",
        "\n",
        "    #LightGBMでは、カテゴリ質的変数であることを書く必要がある\n",
        "    for col in [\"都道府県名\", \"地区名\", \"最寄駅：名称\", \"間取り\", \"建物の構造\", \"用途\", \"今後の利用目的\", \"都市計画\", \"改装\", \"取引の事情等\"]:\n",
        "                df[col] = df[col].astype(\"category\")\n",
        "\n",
        "    return df"
      ]
    },
    {
      "cell_type": "code",
      "execution_count": null,
      "id": "western-solution",
      "metadata": {
        "id": "western-solution"
      },
      "outputs": [],
      "source": [
        "df = data_pre(df)\n",
        "df.info()"
      ]
    },
    {
      "cell_type": "code",
      "execution_count": null,
      "id": "instant-vertical",
      "metadata": {
        "id": "instant-vertical"
      },
      "outputs": [],
      "source": [
        "import lightgbm as lgb #LightGBMの作成\n",
        "from sklearn.model_selection import train_test_split\n",
        "from sklearn.metrics import mean_absolute_error as mae\n",
        "\n",
        "df_train, df_val =train_test_split(df, test_size=0.2)\n",
        "\n",
        "col = \"取引価格（総額）_log\"\n",
        "train_y = df_train[col] #学習用の目的変数\n",
        "train_x = df_train.drop(col, axis=1) #学習用の説明変数\n",
        "\n",
        "val_y = df_val[col] #検証用の目的変数\n",
        "val_x = df_val.drop(col, axis=1) #検証用の説明変数\n",
        "\n",
        "#LightGBM用のデータセットに変換\n",
        "trains = lgb.Dataset(train_x, train_y)\n",
        "valids = lgb.Dataset(val_x, val_y)\n",
        "\n",
        "params = {\n",
        "    \"objective\": \"regression\", #回帰のタスク\n",
        "    \"metrics\": \"mae\" #平均絶対誤差 mae\n",
        "}\n",
        "\n",
        "#num_boost_round 決定木の回数 early_stopping_rounds　過学習を防ぐために早めに停止する\n",
        "model = lgb.train(params, trains, valid_sets=valids, num_boost_round=1000, callbacks=[lgb.early_stopping(stopping_rounds=100)])"
      ]
    },
    {
      "cell_type": "code",
      "execution_count": null,
      "id": "partial-tribute",
      "metadata": {
        "id": "partial-tribute"
      },
      "outputs": [],
      "source": [
        "#平均絶対誤差で評価\n",
        "vals = model.predict(val_x)\n",
        "mae(vals, val_y)"
      ]
    },
    {
      "cell_type": "code",
      "execution_count": null,
      "id": "corresponding-thompson",
      "metadata": {
        "id": "corresponding-thompson"
      },
      "outputs": [],
      "source": [
        "df_test = pd.read_csv(\"/content/drive/MyDrive/Colab Notebooks/data_comp/test.csv\", index_col=0)\n",
        "#テストデータをきれいにする\n",
        "df_test = data_pre(df_test)"
      ]
    },
    {
      "cell_type": "code",
      "execution_count": null,
      "id": "arranged-mercy",
      "metadata": {
        "id": "arranged-mercy"
      },
      "outputs": [],
      "source": [
        "predict = model.predict(df_test)\n",
        "df_test[\"取引価格（総額）_log\"] = predict\n",
        "df_test[[\"取引価格（総額）_log\"]].to_csv(\"/content/drive/MyDrive/Colab Notebooks/data_comp/submit_test.csv\") #目的変数の予測結果をcsvに"
      ]
    },
    {
      "cell_type": "code",
      "execution_count": null,
      "id": "chronic-strategy",
      "metadata": {
        "id": "chronic-strategy"
      },
      "outputs": [],
      "source": [
        "df.info()"
      ]
    },
    {
      "cell_type": "code",
      "execution_count": null,
      "id": "split-throat",
      "metadata": {
        "id": "split-throat"
      },
      "outputs": [],
      "source": [
        "#特徴量重要度を表示する\n",
        "pd.DataFrame(model.feature_importance(), index=val_x.columns, columns=[\"importance\"]).sort_values(\"importance\", ascending=False)"
      ]
    },
    {
      "cell_type": "code",
      "execution_count": null,
      "id": "liked-driving",
      "metadata": {
        "id": "liked-driving"
      },
      "outputs": [],
      "source": []
    }
  ],
  "metadata": {
    "kernelspec": {
      "display_name": "Python 3",
      "language": "python",
      "name": "python3"
    },
    "language_info": {
      "codemirror_mode": {
        "name": "ipython",
        "version": 3
      },
      "file_extension": ".py",
      "mimetype": "text/x-python",
      "name": "python",
      "nbconvert_exporter": "python",
      "pygments_lexer": "ipython3",
      "version": "3.8.6"
    },
    "colab": {
      "provenance": [],
      "include_colab_link": true
    }
  },
  "nbformat": 4,
  "nbformat_minor": 5
}